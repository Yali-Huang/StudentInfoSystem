{
 "cells": [
  {
   "cell_type": "code",
   "execution_count": null,
   "metadata": {
    "ExecuteTime": {
     "start_time": "2021-03-30T01:43:14.844Z"
    },
    "scrolled": true
   },
   "outputs": [
    {
     "name": "stdout",
     "output_type": "stream",
     "text": [
      "2021-03-29 21:43:14,920 INFO sqlalchemy.engine.base.Engine SELECT CAST('test plain returns' AS VARCHAR(60)) AS anon_1\n",
      "2021-03-29 21:43:14,924 INFO sqlalchemy.engine.base.Engine ()\n",
      "2021-03-29 21:43:14,929 INFO sqlalchemy.engine.base.Engine SELECT CAST('test unicode returns' AS VARCHAR(60)) AS anon_1\n",
      "2021-03-29 21:43:14,935 INFO sqlalchemy.engine.base.Engine ()\n",
      "2021-03-29 21:43:14,941 INFO sqlalchemy.engine.base.Engine PRAGMA main.table_info(\"student\")\n",
      "2021-03-29 21:43:14,944 INFO sqlalchemy.engine.base.Engine ()\n",
      " * Serving Flask app \"__main__\" (lazy loading)\n",
      " * Environment: production\n",
      "   WARNING: This is a development server. Do not use it in a production deployment.\n",
      "   Use a production WSGI server instead.\n",
      " * Debug mode: off\n"
     ]
    },
    {
     "name": "stderr",
     "output_type": "stream",
     "text": [
      " * Running on http://127.0.0.1:5000/ (Press CTRL+C to quit)\n",
      "127.0.0.1 - - [29/Mar/2021 21:43:18] \"\u001b[37mGET / HTTP/1.1\u001b[0m\" 200 -\n"
     ]
    },
    {
     "name": "stdout",
     "output_type": "stream",
     "text": [
      "2021-03-29 21:43:25,817 INFO sqlalchemy.engine.base.Engine BEGIN (implicit)\n",
      "2021-03-29 21:43:25,889 INFO sqlalchemy.engine.base.Engine SELECT student.student_id AS student_student_id, student.first_name AS student_first_name, student.last_name AS student_last_name, student.dob AS student_dob, student.amount_due AS student_amount_due \n",
      "FROM student\n",
      "2021-03-29 21:43:25,890 INFO sqlalchemy.engine.base.Engine ()\n",
      "rows: [<Student 1>, <Student 2>, <Student 3>, <Student 4>, <Student 5>, <Student 6>]\n",
      "2021-03-29 21:43:25,907 INFO sqlalchemy.engine.base.Engine COMMIT\n"
     ]
    },
    {
     "name": "stderr",
     "output_type": "stream",
     "text": [
      "127.0.0.1 - - [29/Mar/2021 21:43:25] \"\u001b[37mGET /query_all HTTP/1.1\u001b[0m\" 200 -\n",
      "127.0.0.1 - - [29/Mar/2021 21:46:18] \"\u001b[37mGET /add HTTP/1.1\u001b[0m\" 200 -\n",
      "127.0.0.1 - - [29/Mar/2021 21:48:13] \"\u001b[37mGET /add HTTP/1.1\u001b[0m\" 200 -\n"
     ]
    },
    {
     "name": "stdout",
     "output_type": "stream",
     "text": [
      "2021-03-29 21:48:14,285 INFO sqlalchemy.engine.base.Engine BEGIN (implicit)\n",
      "2021-03-29 21:48:14,326 INFO sqlalchemy.engine.base.Engine SELECT student.student_id AS student_student_id, student.first_name AS student_first_name, student.last_name AS student_last_name, student.dob AS student_dob, student.amount_due AS student_amount_due \n",
      "FROM student\n",
      "2021-03-29 21:48:14,329 INFO sqlalchemy.engine.base.Engine ()\n",
      "rows: [<Student 1>, <Student 2>, <Student 3>, <Student 4>, <Student 5>, <Student 6>]\n",
      "2021-03-29 21:48:14,334 INFO sqlalchemy.engine.base.Engine COMMIT\n"
     ]
    },
    {
     "name": "stderr",
     "output_type": "stream",
     "text": [
      "127.0.0.1 - - [29/Mar/2021 21:48:14] \"\u001b[37mGET /query_all HTTP/1.1\u001b[0m\" 200 -\n"
     ]
    },
    {
     "name": "stdout",
     "output_type": "stream",
     "text": [
      "2021-03-29 21:50:43,859 INFO sqlalchemy.engine.base.Engine BEGIN (implicit)\n",
      "2021-03-29 21:50:43,931 INFO sqlalchemy.engine.base.Engine SELECT student.student_id AS student_student_id, student.first_name AS student_first_name, student.last_name AS student_last_name, student.dob AS student_dob, student.amount_due AS student_amount_due \n",
      "FROM student\n",
      "2021-03-29 21:50:43,931 INFO sqlalchemy.engine.base.Engine ()\n",
      "rows: [<Student 1>, <Student 2>, <Student 3>, <Student 4>, <Student 5>, <Student 6>]\n",
      "2021-03-29 21:50:43,942 INFO sqlalchemy.engine.base.Engine COMMIT\n"
     ]
    },
    {
     "name": "stderr",
     "output_type": "stream",
     "text": [
      "127.0.0.1 - - [29/Mar/2021 21:50:43] \"\u001b[37mGET /query_all HTTP/1.1\u001b[0m\" 200 -\n",
      "127.0.0.1 - - [29/Mar/2021 21:50:45] \"\u001b[37mGET /add HTTP/1.1\u001b[0m\" 200 -\n"
     ]
    }
   ],
   "source": [
    "from flask import Flask\n",
    "from flask import render_template\n",
    "from flask import request\n",
    "from flask import flash\n",
    "from flask import redirect\n",
    "from flask import url_for\n",
    "from flask_sqlalchemy import SQLAlchemy\n",
    "\n",
    "\n",
    "class Config(object):\n",
    "    SQLALCHEMY_DATABASE_URI = \"sqlite:///./data.db\"    #local database\n",
    "    SQLALCHEMY_TRACK_MODIFICATIONS = True\n",
    "    SQLALCHEMY_COMMIT_ON_TEARDOWN = True\n",
    "    SQLALCHEMY_ECHO = True\n",
    "\n",
    "app = Flask(__name__)\n",
    "app.secret_key = b'_5#ya2L\"F4Q8z\\n\\xec]/'\n",
    "app.config.from_object(Config)\n",
    "db = SQLAlchemy(app)\n",
    "# define the student model\n",
    "class Student(db.Model):\n",
    "    __tablename__ = \"student\"\n",
    "    student_id = db.Column(db.Integer,autoincrement=True, primary_key=True)\n",
    "    first_name = db.Column(db.String(32), unique=False)\n",
    "    last_name = db.Column(db.String(32), unique=False)\n",
    "    dob = db.Column(db.String(32), unique=False)\n",
    "    amount_due = db.Column(db.Float(), unique=False)\n",
    "\n",
    "# create db from model\n",
    "db.create_all()\n",
    "db.session.commit()\n",
    "    \n",
    "@app.route('/')\n",
    "def index():\n",
    "    return render_template('index.html') \n",
    "  \n",
    "@app.route('/add', methods=['POST','GET'])\n",
    "def add():\n",
    "    if request.method =='POST':\n",
    "        #student_id = request.form['student_id']\n",
    "        first_name  = request.form['first_name']\n",
    "        last_name  = request.form['last_name']\n",
    "        dob = request.form['dob']\n",
    "        amount_due = request.form['amount_due']\n",
    "        \n",
    "        try:\n",
    "            print(f'{first_name}, {last_name}, {dob},{amount_due}')\n",
    "            new_student = Student(\n",
    "                first_name=first_name,\n",
    "                last_name=last_name,\n",
    "                dob=dob,\n",
    "                amount_due=amount_due)\n",
    "            db.session.add(new_student)\n",
    "            db.session.commit()\n",
    "            return 'scuess'\n",
    "            #return redirect(url_for('query_all'))\n",
    "        except Exception as e:\n",
    "            flash(\"{}\".format(e))\n",
    "            return 'failed'\n",
    "    else:\n",
    "        return render_template('student.html') \n",
    "   \n",
    "@app.route('/delete', methods=['POST','GET'])  \n",
    "def delete():\n",
    "    if request.method =='POST':\n",
    "        student_id = request.form['student_id']\n",
    "        student = Student.query.filter_by(student_id=student_id).first()\n",
    "        db.session.delete(student)\n",
    "        db.session.commit()\n",
    "        return redirect(url_for('result'))\n",
    "    \n",
    "@app.route('/update', methods=['POST','GET'])\n",
    "def update():\n",
    "    if request.method =='POST':\n",
    "        student_id = request.form['student_id']\n",
    "        first_name  = request.form['first_name']\n",
    "        last_name  = request.form['last_name']\n",
    "        dob = request.form['dob']\n",
    "        amount_due = request.form['amount_due']\n",
    "        try:\n",
    "            student = Student.query.get(student_id)\n",
    "            student.first_name = first_name\n",
    "            student.last_name = last_name\n",
    "            student.dob = dob\n",
    "            student.amount_due = amount_due\n",
    "            db.session.add(student)\n",
    "            db.session.commit()\n",
    "            return redirect(url_for('result'))\n",
    "        except Exception as e:\n",
    "            flash(\"{}\".format(e))\n",
    "            return redirect(url_for('/'))\n",
    "        \n",
    "@app.route('/query_all') \n",
    "def query_all():\n",
    "    rows = None\n",
    "    try:\n",
    "        rows=Student.query.all() \n",
    "        print('rows:', rows)\n",
    "        return render_template('result.html', rows=rows) \n",
    "    except Exception as e:\n",
    "        flash(\"{}\".format(e))\n",
    "        print('error:', e)\n",
    "    return 'failed'\n",
    "    \n",
    "\n",
    "@app.route('/search', methods=['POST','GET'])\n",
    "def search():\n",
    "    print('Search')\n",
    "    if request.method =='POST':\n",
    "        student_id = request.form['student_id']\n",
    "#         first_name  = request.form['first_name']\n",
    "#         last_name  = request.form['last_name']\n",
    "#         dob = request.form['dob']\n",
    "#         amount_due = request.form['amount_due']\n",
    "        \n",
    "        rows = None\n",
    "        \n",
    "#         if( first_name ):\n",
    "#            rows = Student.query.filter_by(first_name=first_name).all()\n",
    "            \n",
    "#         if( last_name ):\n",
    "#            rows = Student.query.filter_by(last_name=last_name).all()\n",
    "            \n",
    "#         if( amount_due>0 ):\n",
    "#            rows = Student.query.filter_by(amount_due>0).all()\n",
    "            \n",
    "        if( student_id):\n",
    "           print(f'search {student_id}')\n",
    "           rows = Student.query.filter_by(student_id=student_id).all()\n",
    "            \n",
    "        return render_template('result.html', rows=rows) \n",
    "    \n",
    "    return 'Failed'\n",
    "    \n",
    "# def Query():\n",
    "#     \"\"\"查询数据\"\"\"\n",
    "#     # r1 = Book.query.all() #查询所有\n",
    "#     # r2 = Book.query.filter_by(name=\"吞噬星空\").all() #根据条件查询\n",
    "#     r3 = Book.query.filter_by(name=\"吞噬星空\").first()  # 根据条件查询 第一个\n",
    "#     # r4 = Book.query.first() #查询第一个\n",
    "#     # r5 = Book.query.filter(Author.name.endswith('g')).all() #模糊查询\n",
    "#     print(r3)\n",
    "#     print(type(r3))\n",
    "    \n",
    "    \n",
    "if __name__ == '__main__':\n",
    "    #db.drop_all() #第一次执行的时候操作\n",
    "    #db.create_all()#创建表\n",
    "    app.run(debug=False)"
   ]
  },
  {
   "cell_type": "code",
   "execution_count": null,
   "metadata": {},
   "outputs": [],
   "source": []
  },
  {
   "cell_type": "code",
   "execution_count": null,
   "metadata": {},
   "outputs": [],
   "source": []
  }
 ],
 "metadata": {
  "kernelspec": {
   "display_name": "Python 3",
   "language": "python",
   "name": "python3"
  },
  "language_info": {
   "codemirror_mode": {
    "name": "ipython",
    "version": 3
   },
   "file_extension": ".py",
   "mimetype": "text/x-python",
   "name": "python",
   "nbconvert_exporter": "python",
   "pygments_lexer": "ipython3",
   "version": "3.8.5"
  },
  "varInspector": {
   "cols": {
    "lenName": 16,
    "lenType": 16,
    "lenVar": 40
   },
   "kernels_config": {
    "python": {
     "delete_cmd_postfix": "",
     "delete_cmd_prefix": "del ",
     "library": "var_list.py",
     "varRefreshCmd": "print(var_dic_list())"
    },
    "r": {
     "delete_cmd_postfix": ") ",
     "delete_cmd_prefix": "rm(",
     "library": "var_list.r",
     "varRefreshCmd": "cat(var_dic_list()) "
    }
   },
   "types_to_exclude": [
    "module",
    "function",
    "builtin_function_or_method",
    "instance",
    "_Feature"
   ],
   "window_display": false
  }
 },
 "nbformat": 4,
 "nbformat_minor": 4
}
