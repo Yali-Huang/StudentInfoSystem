{
 "cells": [
  {
   "cell_type": "code",
   "execution_count": null,
   "metadata": {
    "ExecuteTime": {
     "start_time": "2021-03-30T16:13:37.885Z"
    },
    "scrolled": true
   },
   "outputs": [
    {
     "name": "stdout",
     "output_type": "stream",
     "text": [
      "2021-03-30 12:13:37,978 INFO sqlalchemy.engine.base.Engine SELECT CAST('test plain returns' AS VARCHAR(60)) AS anon_1\n",
      "2021-03-30 12:13:37,983 INFO sqlalchemy.engine.base.Engine ()\n",
      "2021-03-30 12:13:37,991 INFO sqlalchemy.engine.base.Engine SELECT CAST('test unicode returns' AS VARCHAR(60)) AS anon_1\n",
      "2021-03-30 12:13:37,994 INFO sqlalchemy.engine.base.Engine ()\n",
      "2021-03-30 12:13:37,999 INFO sqlalchemy.engine.base.Engine PRAGMA main.table_info(\"student\")\n",
      "2021-03-30 12:13:38,002 INFO sqlalchemy.engine.base.Engine ()\n",
      " * Serving Flask app \"__main__\" (lazy loading)\n",
      " * Environment: production\n",
      "   WARNING: This is a development server. Do not use it in a production deployment.\n",
      "   Use a production WSGI server instead.\n",
      " * Debug mode: off\n"
     ]
    },
    {
     "name": "stderr",
     "output_type": "stream",
     "text": [
      " * Running on http://127.0.0.1:5000/ (Press CTRL+C to quit)\n",
      "127.0.0.1 - - [30/Mar/2021 12:13:41] \"\u001b[32mGET / HTTP/1.1\u001b[0m\" 302 -\n"
     ]
    },
    {
     "name": "stdout",
     "output_type": "stream",
     "text": [
      "2021-03-30 12:13:42,063 INFO sqlalchemy.engine.base.Engine BEGIN (implicit)\n",
      "2021-03-30 12:13:42,148 INFO sqlalchemy.engine.base.Engine SELECT student.student_id AS student_student_id, student.first_name AS student_first_name, student.last_name AS student_last_name, student.dob AS student_dob, student.amount_due AS student_amount_due \n",
      "FROM student\n",
      "2021-03-30 12:13:42,149 INFO sqlalchemy.engine.base.Engine ()\n",
      "rows: [<Student 1>, <Student 2>, <Student 4>, <Student 6>]\n",
      "2021-03-30 12:13:42,175 INFO sqlalchemy.engine.base.Engine COMMIT\n"
     ]
    },
    {
     "name": "stderr",
     "output_type": "stream",
     "text": [
      "127.0.0.1 - - [30/Mar/2021 12:13:42] \"\u001b[37mGET /query_all HTTP/1.1\u001b[0m\" 200 -\n",
      "127.0.0.1 - - [30/Mar/2021 12:13:45] \"\u001b[37mGET /search HTTP/1.1\u001b[0m\" 200 -\n"
     ]
    }
   ],
   "source": [
    "from flask import Flask\n",
    "from flask import render_template\n",
    "from flask import request\n",
    "from flask import flash\n",
    "from flask import redirect\n",
    "from flask import url_for\n",
    "from flask_sqlalchemy import SQLAlchemy\n",
    "\n",
    "\n",
    "class Config(object):\n",
    "    SQLALCHEMY_DATABASE_URI = \"sqlite:///./data.db\"    #local database\n",
    "    SQLALCHEMY_TRACK_MODIFICATIONS = True\n",
    "    SQLALCHEMY_COMMIT_ON_TEARDOWN = True\n",
    "    SQLALCHEMY_ECHO = True\n",
    "\n",
    "app = Flask(__name__)\n",
    "app.secret_key = b'_5#ya2L\"F4Q8z\\n\\xec]/'\n",
    "app.config.from_object(Config)\n",
    "db = SQLAlchemy(app)\n",
    "# define the student model\n",
    "class Student(db.Model):\n",
    "    __tablename__ = \"student\"\n",
    "    student_id = db.Column(db.Integer,autoincrement=True, primary_key=True)\n",
    "    first_name = db.Column(db.String(32), unique=False)\n",
    "    last_name = db.Column(db.String(32), unique=False)\n",
    "    dob = db.Column(db.String(32), unique=False)\n",
    "    amount_due = db.Column(db.Float(), unique=False)\n",
    "\n",
    "# create db from model\n",
    "db.create_all()\n",
    "db.session.commit()\n",
    "    \n",
    "@app.route('/')\n",
    "def index():\n",
    "    return redirect(url_for('query_all'))\n",
    "    #return render_template('index.html') \n",
    "  \n",
    "@app.route('/add', methods=['POST','GET'])\n",
    "def add():\n",
    "    if request.method =='POST':\n",
    "        #student_id = request.form['student_id']\n",
    "        first_name  = request.form['first_name']\n",
    "        last_name  = request.form['last_name']\n",
    "        dob = request.form['dob']\n",
    "        amount_due = request.form['amount_due']\n",
    "        \n",
    "        try:\n",
    "            print(f'{first_name}, {last_name}, {dob},{amount_due}')\n",
    "            new_student = Student(\n",
    "                first_name=first_name,\n",
    "                last_name=last_name,\n",
    "                dob=dob,\n",
    "                amount_due=amount_due)\n",
    "            db.session.add(new_student)\n",
    "            db.session.commit()\n",
    "            # return 'scuess'\n",
    "            return redirect(url_for('query_all'))\n",
    "        except Exception as e:\n",
    "            flash(\"{}\".format(e))\n",
    "            return 'failed'\n",
    "    else:\n",
    "        return render_template('student.html') \n",
    "   \n",
    "@app.route('/delete', methods=['POST','GET'])  \n",
    "def delete():\n",
    "    if request.method =='POST':\n",
    "        student_id = request.form['student_id']\n",
    "        student = Student.query.filter_by(student_id=student_id).first()\n",
    "        db.session.delete(student)\n",
    "        db.session.commit()\n",
    "        #return redirect(url_for('result'))\n",
    "        return redirect(url_for('query_all'))\n",
    "    \n",
    "@app.route('/update', methods=['POST','GET'])\n",
    "def update():\n",
    "    if request.method =='POST':\n",
    "        student_id = request.form['student_id']\n",
    "        first_name  = request.form['first_name']\n",
    "        last_name  = request.form['last_name']\n",
    "        dob = request.form['dob']\n",
    "        amount_due = request.form['amount_due']\n",
    "        try:\n",
    "            student = Student.query.get(student_id)\n",
    "            student.first_name = first_name\n",
    "            student.last_name = last_name\n",
    "            student.dob = dob\n",
    "            student.amount_due = amount_due\n",
    "            db.session.add(student)\n",
    "            db.session.commit()\n",
    "            return redirect(url_for('query_all'))\n",
    "        except Exception as e:\n",
    "            print(e)\n",
    "            flash(\"{}\".format(e))\n",
    "            return redirect(url_for('/'))\n",
    "    else:\n",
    "        try:\n",
    "            student_id = request.args.get('student_id')\n",
    "            student = Student.query.get(student_id)\n",
    "            return render_template('student_update.html', row = student) \n",
    "        except Exception as e:\n",
    "            print(e)\n",
    "            flash(\"{}\".format(e))\n",
    "            return redirect(url_for('/'))\n",
    "        \n",
    "@app.route('/query_all') \n",
    "def query_all():\n",
    "    rows = None\n",
    "    try:\n",
    "        rows=Student.query.all() \n",
    "        print('rows:', rows)\n",
    "        return render_template('result.html', rows=rows, type = 0) \n",
    "    except Exception as e:\n",
    "        flash(\"{}\".format(e))\n",
    "        print('error:', e)\n",
    "    return 'failed'\n",
    "    \n",
    "\n",
    "@app.route('/search', methods=['POST','GET'])\n",
    "def search():\n",
    "    if request.method =='POST':\n",
    "        s_id = request.form['student_id']\n",
    "        rows = None\n",
    "        rows = Student.query.filter_by(student_id=s_id)\n",
    "    \n",
    "        return render_template('result.html', rows=rows, type = 1) \n",
    "    else:\n",
    "        return render_template('search.html') \n",
    "    \n",
    "    \n",
    "if __name__ == '__main__':\n",
    "    #db.drop_all() #first time run\n",
    "    #db.create_all()#create table\n",
    "    app.run(debug=False)"
   ]
  },
  {
   "cell_type": "code",
   "execution_count": null,
   "metadata": {},
   "outputs": [],
   "source": []
  }
 ],
 "metadata": {
  "kernelspec": {
   "display_name": "Python 3",
   "language": "python",
   "name": "python3"
  },
  "language_info": {
   "codemirror_mode": {
    "name": "ipython",
    "version": 3
   },
   "file_extension": ".py",
   "mimetype": "text/x-python",
   "name": "python",
   "nbconvert_exporter": "python",
   "pygments_lexer": "ipython3",
   "version": "3.8.5"
  },
  "varInspector": {
   "cols": {
    "lenName": 16,
    "lenType": 16,
    "lenVar": 40
   },
   "kernels_config": {
    "python": {
     "delete_cmd_postfix": "",
     "delete_cmd_prefix": "del ",
     "library": "var_list.py",
     "varRefreshCmd": "print(var_dic_list())"
    },
    "r": {
     "delete_cmd_postfix": ") ",
     "delete_cmd_prefix": "rm(",
     "library": "var_list.r",
     "varRefreshCmd": "cat(var_dic_list()) "
    }
   },
   "types_to_exclude": [
    "module",
    "function",
    "builtin_function_or_method",
    "instance",
    "_Feature"
   ],
   "window_display": false
  }
 },
 "nbformat": 4,
 "nbformat_minor": 4
}
